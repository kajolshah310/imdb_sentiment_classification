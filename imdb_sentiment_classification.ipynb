{
 "cells": [
  {
   "cell_type": "code",
   "execution_count": 46,
   "metadata": {},
   "outputs": [],
   "source": [
    "#IMDB\n",
    "import pandas as pd\n",
    "import numpy as np\n",
    "import matplotlib.pyplot as plt\n",
    "from keras.datasets import imdb\n",
    "from tensorflow.keras import preprocessing"
   ]
  },
  {
   "cell_type": "code",
   "execution_count": 47,
   "metadata": {
    "scrolled": true
   },
   "outputs": [],
   "source": [
    "max_features = 20000\n",
    "maxlen = 50 #maximum length of a sequence. Longer sequence will be truncated"
   ]
  },
  {
   "cell_type": "code",
   "execution_count": 48,
   "metadata": {},
   "outputs": [],
   "source": [
    "#splitting the data into train and test\n",
    "#num_words contains the number of most frequent words to be considered. In this case, it will be 20000\n",
    "(train_data, train_labels), (x_test, y_test) = imdb.load_data(num_words=\n",
    "max_features)"
   ]
  },
  {
   "cell_type": "code",
   "execution_count": 49,
   "metadata": {},
   "outputs": [
    {
     "name": "stdout",
     "output_type": "stream",
     "text": [
      "(25000,)\n",
      "(25000,)\n",
      "(25000,)\n",
      "(25000,)\n"
     ]
    }
   ],
   "source": [
    "#print the shape of the train and test variables\n",
    "print(train_data.shape)\n",
    "print(train_labels.shape)\n",
    "print(x_test.shape)\n",
    "print(y_test.shape)"
   ]
  },
  {
   "cell_type": "code",
   "execution_count": 50,
   "metadata": {},
   "outputs": [],
   "source": [
    "#splitting training data into training and validation\n",
    "x_val = train_data[:5000]\n",
    "x_train = train_data[5000:]\n",
    "y_val = train_labels[:5000]\n",
    "y_train = train_labels[5000:]"
   ]
  },
  {
   "cell_type": "code",
   "execution_count": 51,
   "metadata": {},
   "outputs": [
    {
     "name": "stdout",
     "output_type": "stream",
     "text": [
      "(20000,)\n",
      "(20000,)\n",
      "(5000,)\n",
      "(5000,)\n"
     ]
    }
   ],
   "source": [
    "#print the shape of the train and validation variables\n",
    "print(x_train.shape)\n",
    "print(y_train.shape)\n",
    "print(x_val.shape)\n",
    "print(y_val.shape)"
   ]
  },
  {
   "cell_type": "code",
   "execution_count": 52,
   "metadata": {
    "scrolled": true
   },
   "outputs": [],
   "source": [
    "#truncating or padding sequences in the dataset to a length of 50\n",
    "x_train = preprocessing.sequence.pad_sequences(x_train, maxlen=maxlen)\n",
    "x_val = preprocessing.sequence.pad_sequences(x_val, maxlen=maxlen)\n",
    "x_test = preprocessing.sequence.pad_sequences(x_test, maxlen=maxlen)"
   ]
  },
  {
   "cell_type": "code",
   "execution_count": 53,
   "metadata": {},
   "outputs": [],
   "source": [
    "#import function from keras for creating NN model\n",
    "from keras.models import Sequential\n",
    "from keras.layers import Dense, Flatten, SimpleRNN, LSTM\n",
    "from keras.layers.embeddings import Embedding\n",
    "from keras.optimizers import SGD\n"
   ]
  },
  {
   "cell_type": "code",
   "execution_count": 64,
   "metadata": {
    "scrolled": false
   },
   "outputs": [
    {
     "name": "stdout",
     "output_type": "stream",
     "text": [
      "Model: \"sequential_11\"\n",
      "_________________________________________________________________\n",
      "Layer (type)                 Output Shape              Param #   \n",
      "=================================================================\n",
      "embedding_11 (Embedding)     (None, 50, 128)           2560000   \n",
      "_________________________________________________________________\n",
      "simple_rnn_4 (SimpleRNN)     (None, 128)               32896     \n",
      "_________________________________________________________________\n",
      "dense_11 (Dense)             (None, 1)                 129       \n",
      "=================================================================\n",
      "Total params: 2,593,025\n",
      "Trainable params: 2,593,025\n",
      "Non-trainable params: 0\n",
      "_________________________________________________________________\n"
     ]
    }
   ],
   "source": [
    "#Embedding layer - to convert each word into a fixed length vector\n",
    "sc_model = Sequential()\n",
    "sc_model.add(Embedding(max_features, 128, input_length = maxlen))\n",
    "#sc_model.add(Flatten())\n",
    "#sc_model.add(Dense(500, activation = 'relu'))\n",
    "#sc_model.add(SimpleRNN(250, activation = 'relu'))\n",
    "sc_model.add(SimpleRNN(128, activation = 'relu'))\n",
    "sc_model.add(Dense(1, activation = 'sigmoid'))\n",
    "#defining learning rate for stochastic gradient descent\n",
    "#sgd = SGD(lr = 0.01)\n",
    "#compiling the model\n",
    "#sc_model.compile(optimizer = sgd, loss='binary_crossentropy', metrics = ['accuracy'])\n",
    "sc_model.compile(optimizer = 'Adam', loss='binary_crossentropy', metrics = ['accuracy'])\n",
    "\n",
    "sc_model.summary()\n"
   ]
  },
  {
   "cell_type": "code",
   "execution_count": 65,
   "metadata": {},
   "outputs": [
    {
     "name": "stdout",
     "output_type": "stream",
     "text": [
      "Train on 20000 samples, validate on 5000 samples\n",
      "Epoch 1/10\n",
      " - 12s - loss: 0.5484 - acc: 0.7016 - val_loss: 0.4818 - val_acc: 0.7692\n",
      "Epoch 2/10\n",
      " - 11s - loss: 0.3236 - acc: 0.8618 - val_loss: 0.4591 - val_acc: 0.7948\n",
      "Epoch 3/10\n",
      " - 12s - loss: 0.2151 - acc: 0.9139 - val_loss: 0.5181 - val_acc: 0.8010\n",
      "Epoch 4/10\n",
      " - 13s - loss: 0.1309 - acc: 0.9516 - val_loss: 0.5484 - val_acc: 0.7866\n",
      "Epoch 5/10\n",
      " - 12s - loss: 0.1238 - acc: 0.9551 - val_loss: 0.8038 - val_acc: 0.7862\n",
      "Epoch 6/10\n",
      " - 13s - loss: 0.0710 - acc: 0.9755 - val_loss: 0.8488 - val_acc: 0.7820\n",
      "Epoch 7/10\n",
      " - 11s - loss: 0.0474 - acc: 0.9842 - val_loss: 0.9252 - val_acc: 0.7840\n",
      "Epoch 8/10\n",
      " - 10s - loss: 0.0508 - acc: 0.9823 - val_loss: 0.8560 - val_acc: 0.7816\n",
      "Epoch 9/10\n",
      " - 10s - loss: 0.0293 - acc: 0.9901 - val_loss: 1.1164 - val_acc: 0.7880\n",
      "Epoch 10/10\n",
      " - 10s - loss: 0.0323 - acc: 0.9904 - val_loss: 1.0063 - val_acc: 0.7820\n"
     ]
    }
   ],
   "source": [
    "#fitting and evaluating the model\n",
    "training_hist = sc_model.fit(x_train, y_train, batch_size=100, epochs = 10, verbose = 2, validation_data = (x_val, y_val))"
   ]
  },
  {
   "cell_type": "code",
   "execution_count": 66,
   "metadata": {},
   "outputs": [
    {
     "data": {
      "text/plain": [
       "Text(0, 0.5, 'loss')"
      ]
     },
     "execution_count": 66,
     "metadata": {},
     "output_type": "execute_result"
    },
    {
     "data": {
      "image/png": "[encoded data removed]",
      "text/plain": [
       "<Figure size 432x288 with 1 Axes>"
      ]
     },
     "metadata": {
      "needs_background": "light"
     },
     "output_type": "display_data"
    }
   ],
   "source": [
    "import matplotlib.pyplot as plt\n",
    "#Plot training and validation loss\n",
    "plt.plot(training_hist.history['loss'])\n",
    "plt.plot(training_hist.history['val_loss'])\n",
    "plt.title('Training & Validation loss')\n",
    "plt.legend(['training', 'validation'], loc='upper right')\n",
    "plt.xlabel('epoch')\n",
    "plt.ylabel('loss')"
   ]
  },
  {
   "cell_type": "code",
   "execution_count": 105,
   "metadata": {},
   "outputs": [
    {
     "data": {
      "text/plain": [
       "Text(0, 0.5, 'accuracy')"
      ]
     },
     "execution_count": 105,
     "metadata": {},
     "output_type": "execute_result"
    },
    {
     "data": {
      "image/png": "[encoded data removed]",
      "text/plain": [
       "<Figure size 432x288 with 1 Axes>"
      ]
     },
     "metadata": {
      "needs_background": "light"
     },
     "output_type": "display_data"
    }
   ],
   "source": [
    "#Plot training and validation loss\n",
    "plt.plot(training_hist.history['acc'])\n",
    "plt.plot(training_hist.history['val_acc'])\n",
    "plt.title('Training & Validation accuracy')\n",
    "plt.legend(['training', 'validation'], loc='upper right')\n",
    "plt.xlabel('epoch')\n",
    "plt.ylabel('accuracy')"
   ]
  },
  {
   "cell_type": "code",
   "execution_count": 67,
   "metadata": {},
   "outputs": [
    {
     "name": "stdout",
     "output_type": "stream",
     "text": [
      "25000/25000 [==============================] - 4s 150us/step\n",
      "Loss  1.0091726932430267\n",
      "Accuracy score: 0.78272\n"
     ]
    }
   ],
   "source": [
    "loss_accuracy_score1 = sc_model.evaluate(x_test, y_test)\n",
    "print(\"Loss \", loss_accuracy_score1[0] )\n",
    "print(\"Accuracy score:\",loss_accuracy_score1[1])"
   ]
  },
  {
   "cell_type": "code",
   "execution_count": 68,
   "metadata": {},
   "outputs": [
    {
     "name": "stdout",
     "output_type": "stream",
     "text": [
      "Model: \"sequential_12\"\n",
      "_________________________________________________________________\n",
      "Layer (type)                 Output Shape              Param #   \n",
      "=================================================================\n",
      "embedding_12 (Embedding)     (None, 50, 128)           2560000   \n",
      "_________________________________________________________________\n",
      "lstm_8 (LSTM)                (None, 128)               131584    \n",
      "_________________________________________________________________\n",
      "dense_12 (Dense)             (None, 1)                 129       \n",
      "=================================================================\n",
      "Total params: 2,691,713\n",
      "Trainable params: 2,691,713\n",
      "Non-trainable params: 0\n",
      "_________________________________________________________________\n"
     ]
    }
   ],
   "source": [
    "#Embedding layer - to convert each word into a fixed length vector\n",
    "sc_model2 = Sequential()\n",
    "sc_model2.add(Embedding(max_features, 128, input_length = maxlen))\n",
    "#sc_model.add(Flatten())\n",
    "#sc_model.add(Dense(500, activation = 'relu'))\n",
    "\n",
    "#training model using LSTM layer\n",
    "#sc_model2.add(LSTM(250, activation = 'tanh'))\n",
    "sc_model2.add(LSTM(128, activation = 'tanh', dropout = 0.3, recurrent_dropout = 0.3))\n",
    "sc_model2.add(Dense(1, activation = 'sigmoid'))\n",
    "#defining learning rate for stochastic gradient descent\n",
    "#sgd = SGD(lr = 0.01)\n",
    "#compiling the model\n",
    "#sc_model2.compile(optimizer = sgd, loss='binary_crossentropy', metrics = ['accuracy'])\n",
    "sc_model2.compile(optimizer = 'Adam', loss='binary_crossentropy', metrics = ['accuracy'])\n",
    "sc_model2.summary()"
   ]
  },
  {
   "cell_type": "code",
   "execution_count": 69,
   "metadata": {},
   "outputs": [
    {
     "name": "stdout",
     "output_type": "stream",
     "text": [
      "Train on 20000 samples, validate on 5000 samples\n",
      "Epoch 1/10\n",
      " - 31s - loss: 0.5257 - acc: 0.7298 - val_loss: 0.4163 - val_acc: 0.8126\n",
      "Epoch 2/10\n",
      " - 28s - loss: 0.3392 - acc: 0.8562 - val_loss: 0.4358 - val_acc: 0.8050\n",
      "Epoch 3/10\n",
      " - 32s - loss: 0.2607 - acc: 0.8943 - val_loss: 0.4712 - val_acc: 0.8022\n",
      "Epoch 4/10\n",
      " - 29s - loss: 0.2007 - acc: 0.9246 - val_loss: 0.5160 - val_acc: 0.8006\n",
      "Epoch 5/10\n",
      " - 29s - loss: 0.1549 - acc: 0.9437 - val_loss: 0.5922 - val_acc: 0.7920\n",
      "Epoch 6/10\n",
      " - 28s - loss: 0.1175 - acc: 0.9585 - val_loss: 0.6820 - val_acc: 0.7870\n",
      "Epoch 7/10\n",
      " - 28s - loss: 0.0898 - acc: 0.9698 - val_loss: 0.7510 - val_acc: 0.7876\n",
      "Epoch 8/10\n",
      " - 30s - loss: 0.0722 - acc: 0.9759 - val_loss: 0.9362 - val_acc: 0.7864\n",
      "Epoch 9/10\n",
      " - 29s - loss: 0.0615 - acc: 0.9798 - val_loss: 0.8468 - val_acc: 0.7866\n",
      "Epoch 10/10\n",
      " - 31s - loss: 0.0477 - acc: 0.9835 - val_loss: 0.8928 - val_acc: 0.7850\n"
     ]
    }
   ],
   "source": [
    "#fitting and evaluating the model\n",
    "training_hist2 = sc_model2.fit(x_train, y_train, batch_size=100, epochs = 10, verbose = 2, validation_data = (x_val, y_val))"
   ]
  },
  {
   "cell_type": "code",
   "execution_count": 70,
   "metadata": {},
   "outputs": [
    {
     "data": {
      "text/plain": [
       "Text(0, 0.5, 'loss')"
      ]
     },
     "execution_count": 70,
     "metadata": {},
     "output_type": "execute_result"
    },
    {
     "data": {
      "image/png": "[encoded data removed]",
      "text/plain": [
       "<Figure size 432x288 with 1 Axes>"
      ]
     },
     "metadata": {
      "needs_background": "light"
     },
     "output_type": "display_data"
    }
   ],
   "source": [
    "#Plot training and validation loss\n",
    "plt.plot(training_hist2.history['loss'])\n",
    "plt.plot(training_hist2.history['val_loss'])\n",
    "plt.title('Training & Validation loss')\n",
    "plt.legend(['training', 'validation'], loc='upper right')\n",
    "plt.xlabel('epoch')\n",
    "plt.ylabel('loss')"
   ]
  },
  {
   "cell_type": "code",
   "execution_count": 106,
   "metadata": {},
   "outputs": [
    {
     "data": {
      "text/plain": [
       "Text(0, 0.5, 'accuracy')"
      ]
     },
     "execution_count": 106,
     "metadata": {},
     "output_type": "execute_result"
    },
    {
     "data": {
      "image/png": "[encoded data removed]",
      "text/plain": [
       "<Figure size 432x288 with 1 Axes>"
      ]
     },
     "metadata": {
      "needs_background": "light"
     },
     "output_type": "display_data"
    }
   ],
   "source": [
    "#plotting training and validation accuracy\n",
    "plt.plot(training_hist2.history['acc'])\n",
    "plt.plot(training_hist2.history['val_acc'])\n",
    "plt.title('Training & Validation accuracy')\n",
    "plt.legend(['training', 'validation'], loc='upper right')\n",
    "plt.xlabel('epoch')\n",
    "plt.ylabel('accuracy')"
   ]
  },
  {
   "cell_type": "code",
   "execution_count": 71,
   "metadata": {},
   "outputs": [
    {
     "name": "stdout",
     "output_type": "stream",
     "text": [
      "25000/25000 [==============================] - 9s 370us/step\n",
      "Loss  0.8863036435127258\n",
      "Accuracy score: 0.77816\n"
     ]
    }
   ],
   "source": [
    "#Accuracy score for LSTM model\n",
    "loss_accuracy_score2 = sc_model2.evaluate(x_test, y_test)#, batch_size=100, verbose=2)\n",
    "print(\"Loss \", loss_accuracy_score2[0] )\n",
    "print(\"Accuracy score:\",loss_accuracy_score2[1])"
   ]
  },
  {
   "cell_type": "markdown",
   "metadata": {},
   "source": [
    "After comparing the results of both the models(i.e. one using SimpleRNN and one using LSTM), I found that the training accuracy of SimpleRNN model was really good i.e. above 95% but its test accuracy was lower than training i.e. below 80%. The training accuracy of LSTM model was slightly lesser than SimpleRNN but it performed similarly on test data as compared to SimpleRNN model."
   ]
  }
 ],
 "metadata": {
  "kernelspec": {
   "display_name": "Python 3 (ipykernel)",
   "language": "python",
   "name": "python3"
  },
  "language_info": {
   "codemirror_mode": {
    "name": "ipython",
    "version": 3
   },
   "file_extension": ".py",
   "mimetype": "text/x-python",
   "name": "python",
   "nbconvert_exporter": "python",
   "pygments_lexer": "ipython3",
   "version": "3.9.7"
  }
 },
 "nbformat": 4,
 "nbformat_minor": 2
}
